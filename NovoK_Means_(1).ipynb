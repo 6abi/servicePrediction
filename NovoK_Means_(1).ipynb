{
 "cells": [
  {
   "cell_type": "code",
   "execution_count": 48,
   "metadata": {
    "id": "WNWeY0YV8Ogj"
   },
   "outputs": [],
   "source": [
    "# importing required libraries\n",
    "import pandas as pd\n",
    "import numpy as np\n",
    "import matplotlib.pyplot as plt\n",
    "%matplotlib inline\n",
    "from sklearn.cluster import KMeans\n",
    "import seaborn as sns\n",
    "import math\n"
   ]
  },
  {
   "cell_type": "code",
   "execution_count": 19,
   "metadata": {
    "id": "H4REavyd9S5A"
   },
   "outputs": [],
   "source": [
    "# reading the data and looking at the first five rows of the data\n",
    "#data=pd.read_csv(\"Wholesale customers data.csv\")\n",
    "#data.head()\n",
    "\n",
    "#import para selecionar arquivo no computador\n",
    "import io\n",
    "data_file = pd.read_excel('idGabarito.xlsx',sheet_name = \"Planilha identificadores ITSM\")\n",
    "df = data_file[['ID_SERVICO', 'ID_GRUPO_SOLUCIONADOR']]"
   ]
  },
  {
   "cell_type": "code",
   "execution_count": 21,
   "metadata": {
    "colab": {
     "base_uri": "https://localhost:8080/",
     "height": 202
    },
    "id": "bALdnjfr_4wv",
    "outputId": "e17977e3-47f0-47ad-a4b1-a4bd2bea7711"
   },
   "outputs": [
    {
     "data": {
      "text/html": [
       "<div>\n",
       "<style scoped>\n",
       "    .dataframe tbody tr th:only-of-type {\n",
       "        vertical-align: middle;\n",
       "    }\n",
       "\n",
       "    .dataframe tbody tr th {\n",
       "        vertical-align: top;\n",
       "    }\n",
       "\n",
       "    .dataframe thead th {\n",
       "        text-align: right;\n",
       "    }\n",
       "</style>\n",
       "<table border=\"1\" class=\"dataframe\">\n",
       "  <thead>\n",
       "    <tr style=\"text-align: right;\">\n",
       "      <th></th>\n",
       "      <th>ID_SERVICO</th>\n",
       "      <th>ID_GRUPO_SOLUCIONADOR</th>\n",
       "    </tr>\n",
       "  </thead>\n",
       "  <tbody>\n",
       "    <tr>\n",
       "      <th>0</th>\n",
       "      <td>705</td>\n",
       "      <td>732</td>\n",
       "    </tr>\n",
       "    <tr>\n",
       "      <th>1</th>\n",
       "      <td>1851</td>\n",
       "      <td>1558</td>\n",
       "    </tr>\n",
       "    <tr>\n",
       "      <th>2</th>\n",
       "      <td>1417</td>\n",
       "      <td>1554</td>\n",
       "    </tr>\n",
       "    <tr>\n",
       "      <th>3</th>\n",
       "      <td>1609</td>\n",
       "      <td>723</td>\n",
       "    </tr>\n",
       "    <tr>\n",
       "      <th>4</th>\n",
       "      <td>1851</td>\n",
       "      <td>1555</td>\n",
       "    </tr>\n",
       "    <tr>\n",
       "      <th>5</th>\n",
       "      <td>1612</td>\n",
       "      <td>694</td>\n",
       "    </tr>\n",
       "    <tr>\n",
       "      <th>6</th>\n",
       "      <td>905</td>\n",
       "      <td>1554</td>\n",
       "    </tr>\n",
       "    <tr>\n",
       "      <th>7</th>\n",
       "      <td>673</td>\n",
       "      <td>732</td>\n",
       "    </tr>\n",
       "    <tr>\n",
       "      <th>8</th>\n",
       "      <td>1466</td>\n",
       "      <td>687</td>\n",
       "    </tr>\n",
       "    <tr>\n",
       "      <th>9</th>\n",
       "      <td>1609</td>\n",
       "      <td>1557</td>\n",
       "    </tr>\n",
       "  </tbody>\n",
       "</table>\n",
       "</div>"
      ],
      "text/plain": [
       "   ID_SERVICO  ID_GRUPO_SOLUCIONADOR\n",
       "0         705                    732\n",
       "1        1851                   1558\n",
       "2        1417                   1554\n",
       "3        1609                    723\n",
       "4        1851                   1555\n",
       "5        1612                    694\n",
       "6         905                   1554\n",
       "7         673                    732\n",
       "8        1466                    687\n",
       "9        1609                   1557"
      ]
     },
     "execution_count": 21,
     "metadata": {},
     "output_type": "execute_result"
    }
   ],
   "source": [
    "# Load the train and test datasets to create two DataFrames\n",
    "\n",
    "# train = pd.read_csv(io.BytesIO(uploaded['Identificadores.csv'])) \n",
    "# test = pd.read_csv(io.BytesIO(uploaded['Solicitante-X-Analista.csv'])) \n",
    "\n",
    "# reading the data and looking at the first five rows of the data\n",
    "data = df[['ID_SERVICO', 'ID_GRUPO_SOLUCIONADOR']]\n",
    "data.head(10)"
   ]
  },
  {
   "cell_type": "code",
   "execution_count": 22,
   "metadata": {
    "colab": {
     "base_uri": "https://localhost:8080/",
     "height": 294
    },
    "id": "oTZ-M2Wf-omR",
    "outputId": "de40583b-ccf5-4046-b405-1cc2d3811606"
   },
   "outputs": [
    {
     "data": {
      "text/html": [
       "<div>\n",
       "<style scoped>\n",
       "    .dataframe tbody tr th:only-of-type {\n",
       "        vertical-align: middle;\n",
       "    }\n",
       "\n",
       "    .dataframe tbody tr th {\n",
       "        vertical-align: top;\n",
       "    }\n",
       "\n",
       "    .dataframe thead th {\n",
       "        text-align: right;\n",
       "    }\n",
       "</style>\n",
       "<table border=\"1\" class=\"dataframe\">\n",
       "  <thead>\n",
       "    <tr style=\"text-align: right;\">\n",
       "      <th></th>\n",
       "      <th>ID_SERVICO</th>\n",
       "      <th>ID_GRUPO_SOLUCIONADOR</th>\n",
       "    </tr>\n",
       "  </thead>\n",
       "  <tbody>\n",
       "    <tr>\n",
       "      <th>count</th>\n",
       "      <td>67417.000000</td>\n",
       "      <td>67417.000000</td>\n",
       "    </tr>\n",
       "    <tr>\n",
       "      <th>mean</th>\n",
       "      <td>1330.632111</td>\n",
       "      <td>1190.576932</td>\n",
       "    </tr>\n",
       "    <tr>\n",
       "      <th>std</th>\n",
       "      <td>489.573536</td>\n",
       "      <td>415.792922</td>\n",
       "    </tr>\n",
       "    <tr>\n",
       "      <th>min</th>\n",
       "      <td>0.000000</td>\n",
       "      <td>19.000000</td>\n",
       "    </tr>\n",
       "    <tr>\n",
       "      <th>25%</th>\n",
       "      <td>905.000000</td>\n",
       "      <td>730.000000</td>\n",
       "    </tr>\n",
       "    <tr>\n",
       "      <th>50%</th>\n",
       "      <td>1466.000000</td>\n",
       "      <td>1554.000000</td>\n",
       "    </tr>\n",
       "    <tr>\n",
       "      <th>75%</th>\n",
       "      <td>1851.000000</td>\n",
       "      <td>1557.000000</td>\n",
       "    </tr>\n",
       "    <tr>\n",
       "      <th>max</th>\n",
       "      <td>1851.000000</td>\n",
       "      <td>1851.000000</td>\n",
       "    </tr>\n",
       "  </tbody>\n",
       "</table>\n",
       "</div>"
      ],
      "text/plain": [
       "         ID_SERVICO  ID_GRUPO_SOLUCIONADOR\n",
       "count  67417.000000           67417.000000\n",
       "mean    1330.632111            1190.576932\n",
       "std      489.573536             415.792922\n",
       "min        0.000000              19.000000\n",
       "25%      905.000000             730.000000\n",
       "50%     1466.000000            1554.000000\n",
       "75%     1851.000000            1557.000000\n",
       "max     1851.000000            1851.000000"
      ]
     },
     "execution_count": 22,
     "metadata": {},
     "output_type": "execute_result"
    }
   ],
   "source": [
    "# statistics of the data\n",
    "data.describe()"
   ]
  },
  {
   "cell_type": "code",
   "execution_count": 23,
   "metadata": {
    "colab": {
     "base_uri": "https://localhost:8080/",
     "height": 294
    },
    "id": "MKegMAGW-t1n",
    "outputId": "17e10e42-42b7-447d-ff3d-3f1806f30355"
   },
   "outputs": [
    {
     "data": {
      "text/html": [
       "<div>\n",
       "<style scoped>\n",
       "    .dataframe tbody tr th:only-of-type {\n",
       "        vertical-align: middle;\n",
       "    }\n",
       "\n",
       "    .dataframe tbody tr th {\n",
       "        vertical-align: top;\n",
       "    }\n",
       "\n",
       "    .dataframe thead th {\n",
       "        text-align: right;\n",
       "    }\n",
       "</style>\n",
       "<table border=\"1\" class=\"dataframe\">\n",
       "  <thead>\n",
       "    <tr style=\"text-align: right;\">\n",
       "      <th></th>\n",
       "      <th>0</th>\n",
       "      <th>1</th>\n",
       "    </tr>\n",
       "  </thead>\n",
       "  <tbody>\n",
       "    <tr>\n",
       "      <th>count</th>\n",
       "      <td>6.741700e+04</td>\n",
       "      <td>6.741700e+04</td>\n",
       "    </tr>\n",
       "    <tr>\n",
       "      <th>mean</th>\n",
       "      <td>-6.839957e-15</td>\n",
       "      <td>6.446592e-15</td>\n",
       "    </tr>\n",
       "    <tr>\n",
       "      <th>std</th>\n",
       "      <td>1.000007e+00</td>\n",
       "      <td>1.000007e+00</td>\n",
       "    </tr>\n",
       "    <tr>\n",
       "      <th>min</th>\n",
       "      <td>-2.717961e+00</td>\n",
       "      <td>-2.817714e+00</td>\n",
       "    </tr>\n",
       "    <tr>\n",
       "      <th>25%</th>\n",
       "      <td>-8.694001e-01</td>\n",
       "      <td>-1.107716e+00</td>\n",
       "    </tr>\n",
       "    <tr>\n",
       "      <th>50%</th>\n",
       "      <td>2.765037e-01</td>\n",
       "      <td>8.740547e-01</td>\n",
       "    </tr>\n",
       "    <tr>\n",
       "      <th>75%</th>\n",
       "      <td>1.062908e+00</td>\n",
       "      <td>8.812699e-01</td>\n",
       "    </tr>\n",
       "    <tr>\n",
       "      <th>max</th>\n",
       "      <td>1.062908e+00</td>\n",
       "      <td>1.588358e+00</td>\n",
       "    </tr>\n",
       "  </tbody>\n",
       "</table>\n",
       "</div>"
      ],
      "text/plain": [
       "                  0             1\n",
       "count  6.741700e+04  6.741700e+04\n",
       "mean  -6.839957e-15  6.446592e-15\n",
       "std    1.000007e+00  1.000007e+00\n",
       "min   -2.717961e+00 -2.817714e+00\n",
       "25%   -8.694001e-01 -1.107716e+00\n",
       "50%    2.765037e-01  8.740547e-01\n",
       "75%    1.062908e+00  8.812699e-01\n",
       "max    1.062908e+00  1.588358e+00"
      ]
     },
     "execution_count": 23,
     "metadata": {},
     "output_type": "execute_result"
    }
   ],
   "source": [
    "# standardizing the data\n",
    "from sklearn.preprocessing import StandardScaler\n",
    "scaler = StandardScaler()\n",
    "data_scaled = scaler.fit_transform(data)\n",
    "\n",
    "# statistics of scaled data\n",
    "pd.DataFrame(data_scaled).describe()"
   ]
  },
  {
   "cell_type": "code",
   "execution_count": 24,
   "metadata": {
    "colab": {
     "base_uri": "https://localhost:8080/",
     "height": 69
    },
    "id": "3PF1GFz8-w-S",
    "outputId": "3a5f9559-c00d-4b14-9de1-d3dbde2b2cef"
   },
   "outputs": [
    {
     "data": {
      "text/plain": [
       "KMeans(algorithm='auto', copy_x=True, init='k-means++', max_iter=300,\n",
       "       n_clusters=2, n_init=10, n_jobs=None, precompute_distances='auto',\n",
       "       random_state=None, tol=0.0001, verbose=0)"
      ]
     },
     "execution_count": 24,
     "metadata": {},
     "output_type": "execute_result"
    }
   ],
   "source": [
    "# defining the kmeans function with initialization as k-means++\n",
    "kmeans = KMeans(n_clusters=2, init='k-means++')\n",
    "\n",
    "# fitting the k means algorithm on scaled data\n",
    "kmeans.fit(data_scaled)"
   ]
  },
  {
   "cell_type": "code",
   "execution_count": 25,
   "metadata": {
    "colab": {
     "base_uri": "https://localhost:8080/",
     "height": 35
    },
    "id": "i5BgZ5XW-y2X",
    "outputId": "287eaf77-eeee-4b1c-cd0e-28612eff2786"
   },
   "outputs": [
    {
     "data": {
      "text/plain": [
       "66001.67835197861"
      ]
     },
     "execution_count": 25,
     "metadata": {},
     "output_type": "execute_result"
    }
   ],
   "source": [
    "# inertia on the fitted data\n",
    "kmeans.inertia_"
   ]
  },
  {
   "cell_type": "code",
   "execution_count": 26,
   "metadata": {
    "colab": {
     "base_uri": "https://localhost:8080/",
     "height": 405
    },
    "id": "ODigtYTj-16_",
    "outputId": "88732205-d324-42fc-b320-0511e81bf11d"
   },
   "outputs": [
    {
     "data": {
      "text/plain": [
       "Text(0, 0.5, 'Inertia')"
      ]
     },
     "execution_count": 26,
     "metadata": {},
     "output_type": "execute_result"
    },
    {
     "data": {
      "image/png": "[encoded data removed]",
      "text/plain": [
       "<Figure size 864x432 with 1 Axes>"
      ]
     },
     "metadata": {
      "needs_background": "light"
     },
     "output_type": "display_data"
    }
   ],
   "source": [
    "# fitting multiple k-means algorithms and storing the values in an empty list\n",
    "SSE = []\n",
    "for cluster in range(1,20):\n",
    "    kmeans = KMeans(n_jobs = -1, n_clusters = cluster, init='k-means++')\n",
    "    kmeans.fit(data_scaled)\n",
    "    SSE.append(kmeans.inertia_)\n",
    "\n",
    "# converting the results into a dataframe and plotting them\n",
    "frame = pd.DataFrame({'Cluster':range(1,20), 'SSE':SSE})\n",
    "plt.figure(figsize=(12,6))\n",
    "plt.plot(frame['Cluster'], frame['SSE'], marker='o')\n",
    "plt.xlabel('Number of clusters')\n",
    "plt.ylabel('Inertia')"
   ]
  },
  {
   "cell_type": "code",
   "execution_count": 32,
   "metadata": {
    "id": "Olw77xFK-4C5",
    "outputId": "1442bb64-6b5b-4440-ca4c-3adba3d09d4d"
   },
   "outputs": [],
   "source": [
    "# k means using 5 clusters and k-means++ initialization\n",
    "kmeans = KMeans(n_jobs = -1, n_clusters = 8, init='k-means++')\n",
    "kmeans.fit(data_scaled)\n",
    "pred = kmeans.predict(data_scaled)"
   ]
  },
  {
   "cell_type": "code",
   "execution_count": 33,
   "metadata": {
    "colab": {
     "base_uri": "https://localhost:8080/",
     "height": 225
    },
    "id": "BfLnw_Y8-4sI",
    "outputId": "3b1d5df8-02dc-4225-89d3-61e0a62aef19"
   },
   "outputs": [
    {
     "data": {
      "text/plain": [
       "2    14607\n",
       "0    13234\n",
       "4    10662\n",
       "1     9250\n",
       "6     9247\n",
       "3     7881\n",
       "5     2014\n",
       "7      522\n",
       "Name: cluster, dtype: int64"
      ]
     },
     "execution_count": 33,
     "metadata": {},
     "output_type": "execute_result"
    }
   ],
   "source": [
    "frame = pd.DataFrame(data_scaled)\n",
    "frame['cluster'] = pred\n",
    "frame['cluster'].value_counts()"
   ]
  },
  {
   "cell_type": "code",
   "execution_count": 31,
   "metadata": {
    "colab": {
     "base_uri": "https://localhost:8080/",
     "height": 606
    },
    "id": "mDWXwOULQF_t",
    "outputId": "6990a10e-deda-4505-c574-2aa69d97491e"
   },
   "outputs": [
    {
     "data": {
      "text/plain": [
       "Text(0, 0.5, 'Inertia')"
      ]
     },
     "execution_count": 31,
     "metadata": {},
     "output_type": "execute_result"
    },
    {
     "data": {
      "image/png": "[encoded data removed]",
      "text/plain": [
       "<Figure size 1728x864 with 1 Axes>"
      ]
     },
     "metadata": {
      "needs_background": "light"
     },
     "output_type": "display_data"
    }
   ],
   "source": [
    "# fitting multiple k-means algorithms and storing the values in an empty list\n",
    "SSE = []\n",
    "for cluster in range(1,63):\n",
    "    kmeans = KMeans(n_jobs = -1, n_clusters = cluster, init='k-means++')\n",
    "    kmeans.fit(data_scaled)\n",
    "    SSE.append(kmeans.inertia_)\n",
    "\n",
    "# converting the results into a dataframe and plotting them\n",
    "frame = pd.DataFrame({'Cluster':range(1,63), 'SSE':SSE})\n",
    "plt.figure(figsize=(24,12))\n",
    "plt.plot(frame['Cluster'], frame['SSE'], marker='o')\n",
    "plt.xlabel('Number of clusters')\n",
    "plt.ylabel('Inertia')"
   ]
  },
  {
   "cell_type": "code",
   "execution_count": 65,
   "metadata": {},
   "outputs": [],
   "source": [
    "def calculate_wcss(data):\n",
    "    wcss = []\n",
    "    for n in range(1,64):\n",
    "        kmeans = KMeans(n_clusters=n)\n",
    "        kmeans.fit(X=data)\n",
    "        wcss.append(kmeans.inertia_)\n",
    "    return wcss"
   ]
  },
  {
   "cell_type": "code",
   "execution_count": 66,
   "metadata": {
    "id": "LsUrwWQHYGMp"
   },
   "outputs": [],
   "source": [
    "def optimal_number_of_clusters(wcss):\n",
    "    x1, y1 = 1, wcss[0]\n",
    "    x2, y2 = 64, wcss[len(wcss)-1]\n",
    "\n",
    "    distances = []\n",
    "    for i in range(len(wcss)):\n",
    "        x0 = i+2\n",
    "        y0 = wcss[i]\n",
    "        numerator = abs((y2-y1)*x0 - (x2-x1)*y0 + x2*y1 - y2*x1)\n",
    "        \n",
    "        denominator = math.sqrt((y2 - y1)**2 + (x2 - x1)**2)\n",
    "        distances.append(numerator/denominator)\n",
    "    \n",
    "    return distances.index(max(distances)) + 2"
   ]
  },
  {
   "cell_type": "code",
   "execution_count": 67,
   "metadata": {},
   "outputs": [],
   "source": [
    "# calculando a soma dos quadrados para as 63 quantidade de clusters\n",
    "sum_of_squares = calculate_wcss(df)\n",
    "\n",
    "# calculando a quantidade ótima de clusters\n",
    "n = optimal_number_of_clusters(sum_of_squares)\n",
    "\n",
    "# rodando o kmeans para nossa quantidade ótima de clusters\n",
    "kmeans = KMeans(n_clusters=n)\n",
    "clusters = kmeans.fit_predict(df)"
   ]
  },
  {
   "cell_type": "code",
   "execution_count": 72,
   "metadata": {},
   "outputs": [
    {
     "data": {
      "text/plain": [
       "8"
      ]
     },
     "execution_count": 72,
     "metadata": {},
     "output_type": "execute_result"
    }
   ],
   "source": [
    "n"
   ]
  },
  {
   "cell_type": "code",
   "execution_count": 69,
   "metadata": {},
   "outputs": [
    {
     "data": {
      "text/plain": [
       "[27813549508.851063,\n",
       " 15430708245.362446,\n",
       " 7601832663.733763,\n",
       " 3045576262.692145,\n",
       " 2177941452.9503846,\n",
       " 1581906025.4988885,\n",
       " 986069881.9890088,\n",
       " 700195534.7504089,\n",
       " 499205384.1587145,\n",
       " 413258486.4930583,\n",
       " 342306077.95018303,\n",
       " 282570344.79378086,\n",
       " 213282005.1363023,\n",
       " 155525932.18824527,\n",
       " 120326393.72962452,\n",
       " 97933359.48781428,\n",
       " 76523557.08451779,\n",
       " 60343800.873821706,\n",
       " 56063343.64840223,\n",
       " 51948633.40117636,\n",
       " 45076582.867337644,\n",
       " 41340891.05541732,\n",
       " 39906623.409139246,\n",
       " 36885362.238557264,\n",
       " 33858369.69664711,\n",
       " 30969303.082594357,\n",
       " 29252528.825173624,\n",
       " 28566809.002904955,\n",
       " 24947163.931042057,\n",
       " 23667097.29755286,\n",
       " 22213962.762605377,\n",
       " 20790467.342018608,\n",
       " 19217105.860159945,\n",
       " 18887151.510851882,\n",
       " 16438980.423388632,\n",
       " 15883957.288438696,\n",
       " 14902646.823648447,\n",
       " 13649063.456529617,\n",
       " 13006479.879979592,\n",
       " 11441930.902568493,\n",
       " 11434578.746833352,\n",
       " 10378309.051657865,\n",
       " 9708211.204475256,\n",
       " 9325490.479681756,\n",
       " 9096880.634331185,\n",
       " 8392865.630591536,\n",
       " 7883362.40984884,\n",
       " 7233103.564353667,\n",
       " 6914791.059814888,\n",
       " 6597125.852091486,\n",
       " 6074834.269138759,\n",
       " 6067294.229018458,\n",
       " 5466162.910430817,\n",
       " 5314543.1928862,\n",
       " 5078668.72451244,\n",
       " 4807879.981789546,\n",
       " 4558376.582300299,\n",
       " 4338211.678567774,\n",
       " 4047773.02793503,\n",
       " 3863330.274510675,\n",
       " 3581711.011825442,\n",
       " 3442379.088264711,\n",
       " 3214313.7937812754]"
      ]
     },
     "execution_count": 69,
     "metadata": {},
     "output_type": "execute_result"
    }
   ],
   "source": [
    "sum_of_squares"
   ]
  },
  {
   "cell_type": "code",
   "execution_count": 75,
   "metadata": {},
   "outputs": [
    {
     "data": {
      "text/plain": [
       "array([2, 4, 1, ..., 4, 2, 2])"
      ]
     },
     "execution_count": 75,
     "metadata": {},
     "output_type": "execute_result"
    }
   ],
   "source": [
    "clusters"
   ]
  },
  {
   "cell_type": "code",
   "execution_count": null,
   "metadata": {},
   "outputs": [],
   "source": []
  }
 ],
 "metadata": {
  "colab": {
   "collapsed_sections": [],
   "name": "NovoK_Means (1).ipynb",
   "provenance": []
  },
  "kernelspec": {
   "display_name": "Python 3",
   "language": "python",
   "name": "python3"
  },
  "language_info": {
   "codemirror_mode": {
    "name": "ipython",
    "version": 3
   },
   "file_extension": ".py",
   "mimetype": "text/x-python",
   "name": "python",
   "nbconvert_exporter": "python",
   "pygments_lexer": "ipython3",
   "version": "3.7.6"
  }
 },
 "nbformat": 4,
 "nbformat_minor": 1
}
