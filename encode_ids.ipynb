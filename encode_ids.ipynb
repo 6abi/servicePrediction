{
 "cells": [
  {
   "cell_type": "code",
   "execution_count": 32,
   "metadata": {},
   "outputs": [],
   "source": [
    "#imports\n",
    "import pandas as pd\n",
    "from sklearn.preprocessing import LabelEncoder\n",
    "from functools import reduce\n",
    "import numpy as np\n",
    "\n",
    "#arquivo do ITSM\n",
    "mySheet = 'Exportar_Planilha'\n",
    "file = 'itsm.xlsx'\n",
    "\n",
    "\n"
   ]
  },
  {
   "cell_type": "code",
   "execution_count": 33,
   "metadata": {},
   "outputs": [
    {
     "data": {
      "text/html": [
       "<div>\n",
       "<style scoped>\n",
       "    .dataframe tbody tr th:only-of-type {\n",
       "        vertical-align: middle;\n",
       "    }\n",
       "\n",
       "    .dataframe tbody tr th {\n",
       "        vertical-align: top;\n",
       "    }\n",
       "\n",
       "    .dataframe thead th {\n",
       "        text-align: right;\n",
       "    }\n",
       "</style>\n",
       "<table border=\"1\" class=\"dataframe\">\n",
       "  <thead>\n",
       "    <tr style=\"text-align: right;\">\n",
       "      <th></th>\n",
       "      <th>GRUPO_DONO_SERVICO</th>\n",
       "      <th>SOLICITANTE</th>\n",
       "      <th>ANALISTA</th>\n",
       "      <th>SERVICO</th>\n",
       "      <th>GRUPO_SOLUCIONADOR</th>\n",
       "    </tr>\n",
       "  </thead>\n",
       "  <tbody>\n",
       "    <tr>\n",
       "      <th>0</th>\n",
       "      <td>CSMOP SISTEMICO N2</td>\n",
       "      <td>Conceicao Aparecida Campanha Tassi</td>\n",
       "      <td>GPI - Danilo Gomes Moreno</td>\n",
       "      <td>CONCEDER BENEFICIOS</td>\n",
       "      <td>CSMOP SISTEMICO N2</td>\n",
       "    </tr>\n",
       "    <tr>\n",
       "      <th>1</th>\n",
       "      <td>CYBERSECURITY N2</td>\n",
       "      <td>Leandro Silva Da Cruz</td>\n",
       "      <td>Atos - Felipe Gonçalves da Silva</td>\n",
       "      <td>nan</td>\n",
       "      <td>SERVICE DESK CYBERSERCURITY N1</td>\n",
       "    </tr>\n",
       "    <tr>\n",
       "      <th>2</th>\n",
       "      <td>COAIS INFRAESTRUTURA</td>\n",
       "      <td>Maria Cristina Messias dos Santos</td>\n",
       "      <td>Atos - Felipe Gonçalves da Silva</td>\n",
       "      <td>OUTLOOK</td>\n",
       "      <td>SERVICE DESK ATOS (FSN1)</td>\n",
       "    </tr>\n",
       "    <tr>\n",
       "      <th>3</th>\n",
       "      <td>CSMOP SISTEMICO N2</td>\n",
       "      <td>Vitor Cesar Lopes De Souza</td>\n",
       "      <td>Spread - José Luiz Cabral de Avelar</td>\n",
       "      <td>SERVICO DE PORTABILIDADE</td>\n",
       "      <td>COSIP/COIMP SISTEMICO N2</td>\n",
       "    </tr>\n",
       "    <tr>\n",
       "      <th>4</th>\n",
       "      <td>CYBERSECURITY N2</td>\n",
       "      <td>Rodolfo Leme Pezetta</td>\n",
       "      <td>Atos - Danilo Ribeiro Domingues</td>\n",
       "      <td>nan</td>\n",
       "      <td>SERVICE DESK ATOS (FSN2)</td>\n",
       "    </tr>\n",
       "  </tbody>\n",
       "</table>\n",
       "</div>"
      ],
      "text/plain": [
       "     GRUPO_DONO_SERVICO                         SOLICITANTE  \\\n",
       "0    CSMOP SISTEMICO N2  Conceicao Aparecida Campanha Tassi   \n",
       "1      CYBERSECURITY N2               Leandro Silva Da Cruz   \n",
       "2  COAIS INFRAESTRUTURA   Maria Cristina Messias dos Santos   \n",
       "3    CSMOP SISTEMICO N2          Vitor Cesar Lopes De Souza   \n",
       "4      CYBERSECURITY N2                Rodolfo Leme Pezetta   \n",
       "\n",
       "                              ANALISTA                   SERVICO  \\\n",
       "0            GPI - Danilo Gomes Moreno       CONCEDER BENEFICIOS   \n",
       "1     Atos - Felipe Gonçalves da Silva                       nan   \n",
       "2     Atos - Felipe Gonçalves da Silva                   OUTLOOK   \n",
       "3  Spread - José Luiz Cabral de Avelar  SERVICO DE PORTABILIDADE   \n",
       "4      Atos - Danilo Ribeiro Domingues                       nan   \n",
       "\n",
       "               GRUPO_SOLUCIONADOR  \n",
       "0              CSMOP SISTEMICO N2  \n",
       "1  SERVICE DESK CYBERSERCURITY N1  \n",
       "2        SERVICE DESK ATOS (FSN1)  \n",
       "3        COSIP/COIMP SISTEMICO N2  \n",
       "4        SERVICE DESK ATOS (FSN2)  "
      ]
     },
     "execution_count": 33,
     "metadata": {},
     "output_type": "execute_result"
    }
   ],
   "source": [
    "#series necessárias para analise\n",
    "data_file = data_file[['GRUPO_DONO_SERVICO','SOLICITANTE', 'ANALISTA', 'SERVICO', 'GRUPO_SOLUCIONADOR']]\n",
    "data_file =  data_file.astype('str')\n"
   ]
  },
  {
   "cell_type": "code",
   "execution_count": 50,
   "metadata": {},
   "outputs": [],
   "source": [
    "#qtde valores NaN\n",
    "data_file =  data_file.astype('str')\n",
    "# print(data_file.isnull().sum())\n",
    "\n",
    "\n"
   ]
  },
  {
   "cell_type": "code",
   "execution_count": 51,
   "metadata": {},
   "outputs": [
    {
     "name": "stdout",
     "output_type": "stream",
     "text": [
      "   GRUPO_DONO_SERVICO  SOLICITANTE  ANALISTA  SERVICO  GRUPO_SOLUCIONADOR\n",
      "0                 726          805      1020      703                 726\n",
      "1                 728         1233       591     1837                1544\n",
      "2                 692         1332       591     1403                1540\n",
      "3                 726         1793      1673     1595                 718\n",
      "4                 728         1511       583     1837                1541\n",
      "\n",
      "\n",
      "\n",
      "\n",
      "      GRUPO_DONO_SERVICO                         SOLICITANTE  \\\n",
      "0    CSMOP SISTEMICO N2  Conceicao Aparecida Campanha Tassi   \n",
      "1      CYBERSECURITY N2               Leandro Silva Da Cruz   \n",
      "2  COAIS INFRAESTRUTURA   Maria Cristina Messias dos Santos   \n",
      "3    CSMOP SISTEMICO N2          Vitor Cesar Lopes De Souza   \n",
      "4      CYBERSECURITY N2                Rodolfo Leme Pezetta   \n",
      "\n",
      "                              ANALISTA                   SERVICO  \\\n",
      "0            GPI - Danilo Gomes Moreno       CONCEDER BENEFICIOS   \n",
      "1     Atos - Felipe Gonçalves da Silva                       nan   \n",
      "2     Atos - Felipe Gonçalves da Silva                   OUTLOOK   \n",
      "3  Spread - José Luiz Cabral de Avelar  SERVICO DE PORTABILIDADE   \n",
      "4      Atos - Danilo Ribeiro Domingues                       nan   \n",
      "\n",
      "               GRUPO_SOLUCIONADOR  \n",
      "0              CSMOP SISTEMICO N2  \n",
      "1  SERVICE DESK CYBERSERCURITY N1  \n",
      "2        SERVICE DESK ATOS (FSN1)  \n",
      "3        COSIP/COIMP SISTEMICO N2  \n",
      "4        SERVICE DESK ATOS (FSN2)  \n"
     ]
    }
   ],
   "source": [
    "#transformação para numero\n",
    "columns = ['GRUPO_DONO_SERVICO','SOLICITANTE', 'ANALISTA', 'SERVICO', 'GRUPO_SOLUCIONADOR']\n",
    "encoder = pd.DataFrame(columns=data_file.columns, data=LabelEncoder().fit_transform(data_file.values.flatten()).reshape(data_file.shape))\n",
    "print(encoder.head(5))\n",
    "print('\\n'*4,data_file.head(5))"
   ]
  },
  {
   "cell_type": "code",
   "execution_count": 52,
   "metadata": {},
   "outputs": [
    {
     "name": "stdout",
     "output_type": "stream",
     "text": [
      "GRUPO_DONO_SERVICO      18\n",
      "SOLICITANTE           1575\n",
      "ANALISTA               226\n",
      "SERVICO                190\n",
      "GRUPO_SOLUCIONADOR      63\n",
      "dtype: int64\n"
     ]
    }
   ],
   "source": [
    "print(data_file.nunique())\n",
    "\n"
   ]
  },
  {
   "cell_type": "code",
   "execution_count": 54,
   "metadata": {},
   "outputs": [
    {
     "name": "stdout",
     "output_type": "stream",
     "text": [
      "GRUPO_DONO_SERVICO         18\n",
      "SOLICITANTE              1575\n",
      "ANALISTA                  226\n",
      "SERVICO                   190\n",
      "GRUPO_SOLUCIONADOR         63\n",
      "ID_GRUPO_DONO_SERVICO      18\n",
      "ID_SOLICITANTE           1575\n",
      "ID_ANALISTA               226\n",
      "ID_SERVICO                190\n",
      "ID_GRUPO_SOLUCIONADOR      63\n",
      "dtype: int64\n"
     ]
    }
   ],
   "source": [
    "#novo dataset para exportar em excel\n",
    "df_id = {\n",
    "    'GRUPO_DONO_SERVICO': data_file['GRUPO_DONO_SERVICO'],\n",
    "    'SOLICITANTE': data_file['SOLICITANTE'],\n",
    "    'ANALISTA': data_file['ANALISTA'],\n",
    "    'SERVICO': data_file['SERVICO'],\n",
    "    'GRUPO_SOLUCIONADOR': data_file['GRUPO_SOLUCIONADOR'],\n",
    "    'ID_GRUPO_DONO_SERVICO': encoder['GRUPO_DONO_SERVICO'],\n",
    "    'ID_SOLICITANTE': encoder['SOLICITANTE'],\n",
    "    'ID_ANALISTA': encoder['ANALISTA'],\n",
    "    'ID_SERVICO': encoder['SERVICO'],\n",
    "    'ID_GRUPO_SOLUCIONADOR':encoder['GRUPO_SOLUCIONADOR']\n",
    "    }\n",
    "\n",
    "data_file = pd.DataFrame(df_id, columns= ['GRUPO_DONO_SERVICO','SOLICITANTE', 'ANALISTA',\n",
    "                                          'SERVICO', 'GRUPO_SOLUCIONADOR','ID_GRUPO_DONO_SERVICO',\n",
    "                                          'ID_SOLICITANTE', 'ID_ANALISTA', 'ID_SERVICO', 'ID_GRUPO_SOLUCIONADOR'])\n",
    "print(data_file.nunique())\n",
    "\n",
    "\n"
   ]
  },
  {
   "cell_type": "code",
   "execution_count": 55,
   "metadata": {},
   "outputs": [],
   "source": [
    "#geração do arquivo em excel dos dados codificados\n",
    "identificadores = pd.ExcelWriter('identificadoresGabarito.xlsx', engine = 'xlsxwriter')\n",
    "data_file.to_excel(identificadores, sheet_name= 'identificadores')\n",
    "identificadores.save()\n",
    "\n",
    "# print(test)\n",
    "# print(qtd_solicitante)\n",
    "# print(qtd_analista)\n",
    "# print(df_sol_analista.info())\n",
    "# print(nulos)\n",
    "# print(data_file.describe())"
   ]
  },
  {
   "cell_type": "code",
   "execution_count": null,
   "metadata": {},
   "outputs": [],
   "source": []
  }
 ],
 "metadata": {
  "kernelspec": {
   "display_name": "Python 3",
   "language": "python",
   "name": "python3"
  },
  "language_info": {
   "codemirror_mode": {
    "name": "ipython",
    "version": 3
   },
   "file_extension": ".py",
   "mimetype": "text/x-python",
   "name": "python",
   "nbconvert_exporter": "python",
   "pygments_lexer": "ipython3",
   "version": "3.7.6"
  }
 },
 "nbformat": 4,
 "nbformat_minor": 4
}
